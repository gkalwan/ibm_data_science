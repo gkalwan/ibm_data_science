{
  "metadata": {
    "kernelspec": {
      "name": "python",
      "display_name": "Pyolite",
      "language": "python"
    },
    "language_info": {
      "codemirror_mode": {
        "name": "python",
        "version": 3
      },
      "file_extension": ".py",
      "mimetype": "text/x-python",
      "name": "python",
      "nbconvert_exporter": "python",
      "pygments_lexer": "ipython3",
      "version": "3.8"
    }
  },
  "nbformat_minor": 4,
  "nbformat": 4,
  "cells": [
    {
      "cell_type": "markdown",
      "source": "<center>\n    <img src=\"https://cf-courses-data.s3.us.cloud-object-storage.appdomain.cloud/IBMDeveloperSkillsNetwork-DS0105EN-SkillsNetwork/labs/Module2/images/SN_web_lightmode.png\" width=\"300\" alt=\"cognitiveclass.ai logo\">\n</center>\n",
      "metadata": {}
    },
    {
      "cell_type": "markdown",
      "source": "#### Add your code below following the instructions given in the course\n",
      "metadata": {}
    },
    {
      "cell_type": "markdown",
      "source": "# My Jupyter Notebook on IBM Watson Studio",
      "metadata": {}
    },
    {
      "cell_type": "markdown",
      "source": "**Gurbachan Singh**\n\nBI Architect",
      "metadata": {}
    },
    {
      "cell_type": "markdown",
      "source": "*I want to learn Data Science to upskill myself*",
      "metadata": {}
    },
    {
      "cell_type": "markdown",
      "source": "### Code to print name",
      "metadata": {}
    },
    {
      "cell_type": "code",
      "source": "print(\"Gurbachan Singh\")",
      "metadata": {
        "trusted": true
      },
      "execution_count": 2,
      "outputs": [
        {
          "name": "stdout",
          "text": "Gurbachan Singh\n",
          "output_type": "stream"
        }
      ]
    },
    {
      "cell_type": "markdown",
      "source": "***\n1. Item 1\n2. Item 2\n3. Item 3\n\n***\n* Bullet 1\n* Bullet 2\n    * Sub Bullet 2.1\n    * Sub Bullet 2.2\n* Bullet 3\n***\nClick on  [Google](http://www.google.com/ \"Google Link\") for Search\n\n\n| Class | Name | Marks |\n| --- | --- | --- |\n| Class 1 | Bill | 50 |\n| Class 1 | John | 70 |\n| Class 1 | Chirs | 60 |",
      "metadata": {}
    },
    {
      "cell_type": "markdown",
      "source": "",
      "metadata": {}
    },
    {
      "cell_type": "code",
      "source": "",
      "metadata": {},
      "execution_count": null,
      "outputs": []
    }
  ]
}